{
 "cells": [
  {
   "cell_type": "markdown",
   "metadata": {
    "id": "view-in-github",
    "colab_type": "text"
   },
   "source": [
    "<a href=\"https://colab.research.google.com/github/CIC-Research/Data-Science-Project/blob/main/main.ipynb\" target=\"_parent\"><img src=\"https://colab.research.google.com/assets/colab-badge.svg\" alt=\"Open In Colab\"/></a>"
   ],
   "id": "1f245ffa931ad0b7"
  },
  {
   "metadata": {
    "id": "f0db030b12be663d"
   },
   "cell_type": "markdown",
   "source": [
    "# Neural Network\n",
    "### CIC Data Science Project\n",
    "By: ....,Neidy Malaga,... (Alphabetical Order)\n",
    "\n"
   ],
   "id": "f0db030b12be663d"
  },
  {
   "metadata": {
    "id": "d2f9ba30fbb51d14"
   },
   "cell_type": "markdown",
   "source": [
    "#### Step 1: Beginning Setup\n",
    "\n",
    "Our project compares . We start by using pandas to read our data from an Excel file and display it to prove it was read well."
   ],
   "id": "d2f9ba30fbb51d14"
  },
  {
   "metadata": {
    "id": "bfda8498b8d9ea84",
    "outputId": "34ba0d42-e85e-489f-ea93-4ba897d7e0a9",
    "colab": {
     "base_uri": "https://localhost:8080/",
     "height": 343
    },
    "ExecuteTime": {
     "end_time": "2024-06-11T22:23:12.002008Z",
     "start_time": "2024-06-11T22:23:11.352206Z"
    }
   },
   "cell_type": "code",
   "source": [
    "import pandas as pd\n",
    "\n",
    "Walmart_Data = pd.read_csv('walmart.csv')\n",
    "Walmart_Data['Product_Category'] = Walmart_Data['Product_Category'].astype('uint8')\n",
    "Walmart_Data['Purchase'] = Walmart_Data['Purchase'].astype('uint8')\n",
    "Walmart_Data['Gender'] = Walmart_Data['Gender'].map({'M': 0, 'F': 1})\n",
    "\n",
    "#Not in use yet\n",
    "Walmart_Data.drop('Product_ID', axis=1, inplace=True) \n",
    "Walmart_Data.drop('User_ID', axis=1, inplace=True)\n",
    "Walmart_Data.drop('Age', axis=1, inplace=True)\n",
    "Walmart_Data.drop('City_Category', axis=1, inplace=True)\n",
    "Walmart_Data.drop('Stay_In_Current_City_Years', axis=1, inplace=True)\n",
    "\n",
    "Walmart_Data.head()\n",
    "\n"
   ],
   "id": "bfda8498b8d9ea84",
   "outputs": [
    {
     "data": {
      "text/plain": [
       "   Gender  Occupation  Marital_Status  Product_Category  Purchase\n",
       "0       1          10               0                 3       178\n",
       "1       1          10               0                 1        96\n",
       "2       1          10               0                12       142\n",
       "3       1          10               0                12        33\n",
       "4       0          16               0                 8        33"
      ],
      "text/html": [
       "<div>\n",
       "<style scoped>\n",
       "    .dataframe tbody tr th:only-of-type {\n",
       "        vertical-align: middle;\n",
       "    }\n",
       "\n",
       "    .dataframe tbody tr th {\n",
       "        vertical-align: top;\n",
       "    }\n",
       "\n",
       "    .dataframe thead th {\n",
       "        text-align: right;\n",
       "    }\n",
       "</style>\n",
       "<table border=\"1\" class=\"dataframe\">\n",
       "  <thead>\n",
       "    <tr style=\"text-align: right;\">\n",
       "      <th></th>\n",
       "      <th>Gender</th>\n",
       "      <th>Occupation</th>\n",
       "      <th>Marital_Status</th>\n",
       "      <th>Product_Category</th>\n",
       "      <th>Purchase</th>\n",
       "    </tr>\n",
       "  </thead>\n",
       "  <tbody>\n",
       "    <tr>\n",
       "      <th>0</th>\n",
       "      <td>1</td>\n",
       "      <td>10</td>\n",
       "      <td>0</td>\n",
       "      <td>3</td>\n",
       "      <td>178</td>\n",
       "    </tr>\n",
       "    <tr>\n",
       "      <th>1</th>\n",
       "      <td>1</td>\n",
       "      <td>10</td>\n",
       "      <td>0</td>\n",
       "      <td>1</td>\n",
       "      <td>96</td>\n",
       "    </tr>\n",
       "    <tr>\n",
       "      <th>2</th>\n",
       "      <td>1</td>\n",
       "      <td>10</td>\n",
       "      <td>0</td>\n",
       "      <td>12</td>\n",
       "      <td>142</td>\n",
       "    </tr>\n",
       "    <tr>\n",
       "      <th>3</th>\n",
       "      <td>1</td>\n",
       "      <td>10</td>\n",
       "      <td>0</td>\n",
       "      <td>12</td>\n",
       "      <td>33</td>\n",
       "    </tr>\n",
       "    <tr>\n",
       "      <th>4</th>\n",
       "      <td>0</td>\n",
       "      <td>16</td>\n",
       "      <td>0</td>\n",
       "      <td>8</td>\n",
       "      <td>33</td>\n",
       "    </tr>\n",
       "  </tbody>\n",
       "</table>\n",
       "</div>"
      ]
     },
     "execution_count": 45,
     "metadata": {},
     "output_type": "execute_result"
    }
   ],
   "execution_count": 45
  },
  {
   "metadata": {
    "id": "b7b0f5e8732dbb31"
   },
   "cell_type": "markdown",
   "source": [
    "#### Step 2: Scatterplot Visual\n",
    "Let's start by showing the scatterplot to identify the independent and dependent variable. Since we are trying to measure danceability_% over streams, streams will be the response variable (y-val) and danceability_% will be the explanatory variable (x-val).\n",
    "\n",
    "Now, right away you can see there is a problem with the data. A small amount of values are null. In order to fix this problem, we will use an imputer, as this is its main use. We will be doing this through the help of a pipeline, which will make our code cleaner.\n",
    "\n",
    "We will only need the numerical_columns, but we also included a way to impute categorical column in the comments for practice. The following code block will show the scatterplot. Based on the scatterplot, we can see that it has a few outliers and that most of the data is 'clustered' to the bottom. We can imply that 2-3 clusters can cover the data, and use this information to confirm our methods in Step 3 when we perform a cluster.\n",
    "\n",
    "Information about pipelines (Credits): https://www.kaggle.com/code/alexisbcook/pipelines\n",
    "\n",
    "Information about imputers: https://www.kaggle.com/code/alexisbcook/missing-values\n",
    "\n",
    "FIX DESCRIPTION LATER"
   ],
   "id": "b7b0f5e8732dbb31"
  },
  {
   "metadata": {
    "id": "734e7a5851ca71a",
    "outputId": "b77a1272-1bf1-4188-bd66-a137aef83edf",
    "colab": {
     "base_uri": "https://localhost:8080/",
     "height": 449
    },
    "ExecuteTime": {
     "end_time": "2024-06-11T22:23:13.995825Z",
     "start_time": "2024-06-11T22:23:12.003661Z"
    }
   },
   "cell_type": "code",
   "source": [
    "import matplotlib.pyplot as plt\n",
    "\n",
    "# #set up x,y vals\n",
    "# stream_data = Spotify_Pipeline_Data['streams']\n",
    "# mode_data = Spotify_Pipeline_Data['mode']\n",
    "# \n",
    "# #create scatterplot, annotate scatterplot, show scatterplot\n",
    "# plt.scatter(stream_data, mode_data)\n",
    "# plt.xlabel('Streams')\n",
    "# plt.ylabel('Mode (0-Major, 1-Minor)')\n",
    "# plt.show()\n",
    "\n",
    "#set up x,y vals\n",
    "y = Walmart_Data['Purchase']\n",
    "x = Walmart_Data['Product_Category']\n",
    "\n",
    "#create scatterplot, annotate scatterplot, show scatterplot\n",
    "plt.scatter(x, y)\n",
    "\n",
    "plt.show()\n",
    "\n"
   ],
   "id": "734e7a5851ca71a",
   "outputs": [
    {
     "data": {
      "text/plain": [
       "<Figure size 640x480 with 1 Axes>"
      ],
      "image/png": "[encoded data removed]"
     },
     "metadata": {},
     "output_type": "display_data"
    }
   ],
   "execution_count": 46
  },
  {
   "metadata": {
    "id": "a1fea08de71e3350"
   },
   "cell_type": "markdown",
   "source": [
    "#### Step 3: Clustering Data\n",
    "In order to cluster data, we will use K-Means algorithm.\n",
    "\n",
    "Credit: https://www.w3schools.com/python/python_ml_k-means.asp"
   ],
   "id": "a1fea08de71e3350"
  },
  {
   "metadata": {
    "id": "a8c9a7cec0d4b61",
    "outputId": "dee225e8-3ae1-4fd9-a37d-0e6b8e12646f",
    "colab": {
     "base_uri": "https://localhost:8080/",
     "height": 1000
    },
    "ExecuteTime": {
     "end_time": "2024-06-11T22:23:28.861200Z",
     "start_time": "2024-06-11T22:23:13.999068Z"
    }
   },
   "cell_type": "code",
   "source": [
    "from sklearn.cluster import KMeans\n",
    "\n",
    "\n",
    "K_Data = pd.DataFrame({'Product_Category': Walmart_Data['Product_Category'],'Purchase': Walmart_Data['Purchase']})\n",
    "\n",
    "#Elbow Method\n",
    "inertia = []\n",
    "\n",
    "for index in range(1,11):\n",
    "    kmeans = KMeans(n_clusters=index)\n",
    "    kmeans.fit(K_Data)\n",
    "    inertia.append(kmeans.inertia_)\n",
    "\n",
    "plt.plot(range(1,11), inertia)\n",
    "plt.title('Elbow method')\n",
    "plt.xlabel('Number of clusters')\n",
    "plt.ylabel('Inertia')\n",
    "plt.show()\n",
    "\n",
    "#KMeans\n",
    "kmeans = KMeans(n_clusters=2, init='k-means++')\n",
    "kmeans.fit(K_Data)\n",
    "\n",
    "plt.scatter(K_Data['Product_Category'], K_Data['Purchase'], c=kmeans.labels_)\n",
    "plt.xlabel('Streams')\n",
    "plt.ylabel('Mode (0-Major, 1-Minor)')\n",
    "plt.show()\n"
   ],
   "id": "a8c9a7cec0d4b61",
   "outputs": [
    {
     "data": {
      "text/plain": [
       "<Figure size 640x480 with 1 Axes>"
      ],
      "image/png": "[encoded data removed]"
     },
     "metadata": {},
     "output_type": "display_data"
    },
    {
     "data": {
      "text/plain": [
       "<Figure size 640x480 with 1 Axes>"
      ],
      "image/png": "[encoded data removed]"
     },
     "metadata": {},
     "output_type": "display_data"
    }
   ],
   "execution_count": 47
  },
  {
   "metadata": {
    "id": "9f0b21d133f00df"
   },
   "cell_type": "markdown",
   "source": [
    "#### Step 3: Classification\n",
    "\n",
    "Random Forest should be correct: validation and training accuracy are close and high values "
   ],
   "id": "9f0b21d133f00df"
  },
  {
   "metadata": {
    "id": "9c21b54fd1a876ef",
    "outputId": "30ab4c40-9dee-467b-a263-8a604cbda8f5",
    "colab": {
     "base_uri": "https://localhost:8080/",
     "height": 599
    },
    "ExecuteTime": {
     "end_time": "2024-06-11T22:25:27.624753Z",
     "start_time": "2024-06-11T22:23:28.862692Z"
    }
   },
   "cell_type": "code",
   "source": [
    "from sklearn.ensemble import RandomForestClassifier\n",
    "from sklearn import metrics\n",
    "from sklearn.model_selection import RandomizedSearchCV, train_test_split\n",
    "\n",
    "\n",
    "# \n",
    "x = Walmart_Data.drop('Product_Category', axis=1)\n",
    "y = Walmart_Data['Purchase']\n",
    "\n",
    "#splits into 80% training and 20% testing\n",
    "X_train, X_test, Y_train, Y_test = train_test_split(x,y, test_size=0.25)\n",
    "\n",
    "rf = RandomForestClassifier(max_depth=17)\n",
    "rf.fit(X_train, Y_train)\n",
    "\n",
    "#trains model\n",
    "print('Training Accuracy : ', \n",
    "      metrics.accuracy_score(Y_train,\n",
    "                             rf.predict(X_train))*100)\n",
    "print('Validation Accuracy : ', \n",
    "      metrics.accuracy_score(Y_test, \n",
    "                             rf.predict(X_test))*100)\n"
   ],
   "id": "9c21b54fd1a876ef",
   "outputs": [
    {
     "name": "stdout",
     "output_type": "stream",
     "text": [
      "Training Accuracy :  90.0931036405196\n",
      "Validation Accuracy :  88.26835954827403\n"
     ]
    }
   ],
   "execution_count": 48
  },
  {
   "cell_type": "markdown",
   "source": [
    "https://www.geeksforgeeks.org/understanding-logistic-regression/\n",
    "\n",
    "Logistic Regression\n",
    "Possible Error: Overfitting (100 percent for both is suspicous)"
   ],
   "metadata": {
    "id": "BN203Tn2__8M"
   },
   "id": "BN203Tn2__8M"
  },
  {
   "metadata": {
    "id": "43021f0c8bcefc5e",
    "outputId": "166a6b2f-5c00-4744-fe20-16745d062493",
    "colab": {
     "base_uri": "https://localhost:8080/"
    },
    "ExecuteTime": {
     "end_time": "2024-06-11T22:25:28.977016Z",
     "start_time": "2024-06-11T22:25:27.632010Z"
    }
   },
   "cell_type": "code",
   "source": [
    "from sklearn.preprocessing import StandardScaler\n",
    "from sklearn.linear_model import LogisticRegression\n",
    "from sklearn.model_selection import train_test_split\n",
    "from sklearn.metrics import accuracy_score\n",
    "\n",
    "y =  Walmart_Data['Marital_Status']\n",
    "x = Walmart_Data.drop('Purchase',axis=1)\n",
    "X_train, X_test, Y_train, Y_test = train_test_split(x, y, test_size=0.2)\n",
    "\n",
    "clf = LogisticRegression(penalty='l2')\n",
    "clf.fit(X_train, Y_train)\n",
    "\n",
    "y_pred = clf.predict(X_test)\n",
    "acc = accuracy_score(Y_test, y_pred)\n",
    "\n",
    "print('Training Accuracy : ', \n",
    "      metrics.accuracy_score(Y_train,\n",
    "                             clf.predict(X_train))*100)\n",
    "print('Validation Accuracy : ', \n",
    "      metrics.accuracy_score(Y_test, \n",
    "                             clf.predict(X_test))*100)\n"
   ],
   "id": "43021f0c8bcefc5e",
   "outputs": [
    {
     "name": "stdout",
     "output_type": "stream",
     "text": [
      "Training Accuracy :  100.0\n",
      "Validation Accuracy :  100.0\n"
     ]
    }
   ],
   "execution_count": 49
  },
  {
   "metadata": {},
   "cell_type": "markdown",
   "source": [
    "https://www.datacamp.com/tutorial/k-nearest-neighbor-classification-scikit-learn?irclickid=WuFREi2XYxyKROHzIjScF1YNUkHXA5U5QXLp0w0&irgwc=1&utm_medium=affiliate&utm_source=impact&utm_campaign=000000_1-2003851_2-mix_3-all_4-na_5-na_6-na_7-mp_8-affl-ip_9-na_10-bau_11-Bing%20Rebates%20by%20Microsoft&utm_content=BANNER&utm_term=EdgeBingFlow - KNN\n",
    "\n",
    "Possible Error: Overfitting ???"
   ],
   "id": "3a6ee86104520e38"
  },
  {
   "metadata": {
    "ExecuteTime": {
     "end_time": "2024-06-11T22:25:36.432774Z",
     "start_time": "2024-06-11T22:25:28.978466Z"
    }
   },
   "cell_type": "code",
   "source": [
    "from sklearn.metrics import confusion_matrix\n",
    "from sklearn.neighbors import KNeighborsClassifier\n",
    "from sklearn.model_selection import train_test_split\n",
    "from sklearn.metrics import accuracy_score\n",
    "\n",
    "x = Walmart_Data.drop('Product_Category', axis=1)\n",
    "y = Walmart_Data['Purchase']\n",
    "\n",
    "X_train, X_test, y_train, y_test = train_test_split(x, y, test_size=0.2)\n",
    "\n",
    "knn = KNeighborsClassifier(n_neighbors=50)\n",
    "knn.fit(X_train, y_train)\n",
    "\n",
    "y_pred = knn.predict(X_test)\n",
    "acc = accuracy_score(y_test, y_pred)\n",
    "print('Training Accuracy : ', acc*100)\n"
   ],
   "id": "d01c5f78432d66fc",
   "outputs": [
    {
     "name": "stdout",
     "output_type": "stream",
     "text": [
      "Training Accuracy :  99.95091533804789\n"
     ]
    }
   ],
   "execution_count": 50
  },
  {
   "metadata": {},
   "cell_type": "markdown",
   "source": [
    "Naive Bayes\n",
    "Possible Error: Overfitting (100 percent for both is suspicous)"
   ],
   "id": "5ad0c33c46a12485"
  },
  {
   "metadata": {
    "ExecuteTime": {
     "end_time": "2024-06-11T22:25:46.585308Z",
     "start_time": "2024-06-11T22:25:36.432774Z"
    }
   },
   "cell_type": "code",
   "source": [
    "from sklearn.model_selection import train_test_split\n",
    "from sklearn.naive_bayes import GaussianNB\n",
    "x = Walmart_Data.drop('Product_Category', axis=1)\n",
    "y = Walmart_Data['Purchase']\n",
    "\n",
    "X_train, X_test, y_train, y_test = train_test_split(x, y, test_size=0.2)\n",
    "\n",
    "MB = GaussianNB()\n",
    "MB.fit(X_train, y_train)\n",
    "\n",
    "print('Training Accuracy : ', \n",
    "      metrics.accuracy_score(y_train,\n",
    "                             MB.predict(X_train))*100)\n",
    "print('Validation Accuracy : ', \n",
    "      metrics.accuracy_score(y_test, \n",
    "                             MB.predict(X_test))*100)"
   ],
   "id": "71338fe11b7ff5da",
   "outputs": [
    {
     "name": "stdout",
     "output_type": "stream",
     "text": [
      "Training Accuracy :  100.0\n",
      "Validation Accuracy :  100.0\n"
     ]
    }
   ],
   "execution_count": 51
  }
 ],
 "metadata": {
  "kernelspec": {
   "display_name": "Python 3",
   "language": "python",
   "name": "python3"
  },
  "language_info": {
   "codemirror_mode": {
    "name": "ipython",
    "version": 2
   },
   "file_extension": ".py",
   "mimetype": "text/x-python",
   "name": "python",
   "nbconvert_exporter": "python",
   "pygments_lexer": "ipython2",
   "version": "2.7.6"
  },
  "colab": {
   "provenance": [],
   "include_colab_link": true
  }
 },
 "nbformat": 4,
 "nbformat_minor": 5
}
